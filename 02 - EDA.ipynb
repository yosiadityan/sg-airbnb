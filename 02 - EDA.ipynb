{
 "cells": [
  {
   "cell_type": "markdown",
   "metadata": {},
   "source": [
    "___\n",
    "# Import Library\n",
    "___"
   ]
  },
  {
   "cell_type": "code",
   "execution_count": 1,
   "metadata": {},
   "outputs": [],
   "source": [
    "import numpy as np\n",
    "import pandas as pd\n",
    "\n",
    "import matplotlib.pyplot as plt\n",
    "import seaborn as sns\n",
    "import plotly.graph_objs as go\n",
    "import folium"
   ]
  },
  {
   "cell_type": "markdown",
   "metadata": {},
   "source": [
    "___\n",
    "# Business Statement\n",
    "___"
   ]
  },
  {
   "cell_type": "markdown",
   "metadata": {},
   "source": [
    "Lorem ipsum dolor sit amet, consectetur adipiscing elit. Ut mattis nulla mattis elit faucibus, non imperdiet nisl vulputate. Vivamus at tortor urna. Nulla id elit ac neque placerat dapibus. Phasellus consectetur nisl ac nisi convallis sodales non vitae arcu. Nulla bibendum feugiat justo, ut luctus lectus accumsan eu. Donec sagittis sem quam, non tempus enim rutrum accumsan. Integer mollis, felis eu malesuada vestibulum, urna ex aliquet magna, fermentum imperdiet velit sapien sit amet sem. Sed et elit eu tellus lacinia consequat. Nunc et diam nisi. Suspendisse eget elit ut nisi consectetur fringilla. Nulla sed risus diam. Mauris velit nibh, tempus vitae faucibus quis, sagittis sed justo. Pellentesque egestas lacus quis est varius, vel maximus enim iaculis. Etiam vel neque tincidunt, vehicula odio vitae, rhoncus justo. Proin vehicula tellus orci. Sed condimentum, risus at tempus sodales, massa nisi porta mi, ac scelerisque justo elit non augue."
   ]
  },
  {
   "cell_type": "markdown",
   "metadata": {},
   "source": [
    "___\n",
    "# Exploratory Data Analysis\n",
    "___"
   ]
  },
  {
   "cell_type": "markdown",
   "metadata": {},
   "source": [
    "## Univariate Analysis"
   ]
  },
  {
   "cell_type": "markdown",
   "metadata": {},
   "source": [
    "## Bivariate Analysis"
   ]
  },
  {
   "cell_type": "markdown",
   "metadata": {},
   "source": [
    "## Multivariate Analysis"
   ]
  }
 ],
 "metadata": {
  "kernelspec": {
   "display_name": "Python 3",
   "language": "python",
   "name": "python3"
  },
  "language_info": {
   "codemirror_mode": {
    "name": "ipython",
    "version": 3
   },
   "file_extension": ".py",
   "mimetype": "text/x-python",
   "name": "python",
   "nbconvert_exporter": "python",
   "pygments_lexer": "ipython3",
   "version": "3.9.1"
  }
 },
 "nbformat": 4,
 "nbformat_minor": 4
}
